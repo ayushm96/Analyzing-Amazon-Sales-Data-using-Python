{
 "cells": [
  {
   "cell_type": "markdown",
   "id": "06d648e4",
   "metadata": {},
   "source": [
    "# Analyzing E-commerce Sales using Python"
   ]
  },
  {
   "cell_type": "markdown",
   "id": "a7cedf8d",
   "metadata": {},
   "source": [
    "In this work, we will analyze Amazon sales data using Python to answer some questions regarding our sales data. We will try to answer the following questions:\n",
    "1. Identify the 5 items with the highest revenue.\n",
    "2. Identify the 5 categories with the highest revenue.\n",
    "3. Identify the 5 cities with the highest revenue.\n",
    "4. Identify the 5 states with the highest revenue.\n",
    "5. Identify the top 5 payment methods by transaction amount.\n",
    "6. Calculate the total return/refund percentage.\n",
    "7. Visualize the monthly sales revenue.\n",
    "8. Identify orders by time of day to optimize advertisement spends.\n",
    "9. Visualize trends and volatility in the daily sales.\n"
   ]
  },
  {
   "cell_type": "markdown",
   "id": "54357eb6",
   "metadata": {},
   "source": [
    "**Importing required dependencies**"
   ]
  },
  {
   "cell_type": "code",
   "execution_count": 35,
   "id": "bf9923e9",
   "metadata": {},
   "outputs": [],
   "source": [
    "import numpy as np\n",
    "import pandas as pd\n",
    "import matplotlib.pyplot as plt"
   ]
  },
  {
   "cell_type": "code",
   "execution_count": 36,
   "id": "99f5c273",
   "metadata": {},
   "outputs": [],
   "source": [
    "from datetime import datetime"
   ]
  },
  {
   "cell_type": "code",
   "execution_count": 37,
   "id": "25a3c44d",
   "metadata": {},
   "outputs": [
    {
     "data": {
      "text/html": [
       "<div>\n",
       "<style scoped>\n",
       "    .dataframe tbody tr th:only-of-type {\n",
       "        vertical-align: middle;\n",
       "    }\n",
       "\n",
       "    .dataframe tbody tr th {\n",
       "        vertical-align: top;\n",
       "    }\n",
       "\n",
       "    .dataframe thead th {\n",
       "        text-align: right;\n",
       "    }\n",
       "</style>\n",
       "<table border=\"1\" class=\"dataframe\">\n",
       "  <thead>\n",
       "    <tr style=\"text-align: right;\">\n",
       "      <th></th>\n",
       "      <th>Order ID</th>\n",
       "      <th>Transaction Type</th>\n",
       "      <th>Order Date &amp; Time</th>\n",
       "      <th>Quantity</th>\n",
       "      <th>Product</th>\n",
       "      <th>Category</th>\n",
       "      <th>Ship To City</th>\n",
       "      <th>Ship To State</th>\n",
       "      <th>Invoice Amount</th>\n",
       "      <th>Fulfillment Channel</th>\n",
       "      <th>Payment Method Code</th>\n",
       "    </tr>\n",
       "  </thead>\n",
       "  <tbody>\n",
       "    <tr>\n",
       "      <th>0</th>\n",
       "      <td>10048</td>\n",
       "      <td>Shipment</td>\n",
       "      <td>01-01-2023 03:29</td>\n",
       "      <td>1</td>\n",
       "      <td>Item 25</td>\n",
       "      <td>Category 8</td>\n",
       "      <td>Faridabad</td>\n",
       "      <td>Haryana</td>\n",
       "      <td>1249.0</td>\n",
       "      <td>AFN</td>\n",
       "      <td>CC</td>\n",
       "    </tr>\n",
       "    <tr>\n",
       "      <th>1</th>\n",
       "      <td>10049</td>\n",
       "      <td>Shipment</td>\n",
       "      <td>01-01-2023 00:48</td>\n",
       "      <td>1</td>\n",
       "      <td>Item 9</td>\n",
       "      <td>Category 4</td>\n",
       "      <td>Faridabad</td>\n",
       "      <td>Haryana</td>\n",
       "      <td>939.0</td>\n",
       "      <td>AFN</td>\n",
       "      <td>COD</td>\n",
       "    </tr>\n",
       "    <tr>\n",
       "      <th>2</th>\n",
       "      <td>10050</td>\n",
       "      <td>Shipment</td>\n",
       "      <td>01-01-2023 00:34</td>\n",
       "      <td>1</td>\n",
       "      <td>Item 15</td>\n",
       "      <td>Category 6</td>\n",
       "      <td>Thane</td>\n",
       "      <td>Maharashtra</td>\n",
       "      <td>1149.0</td>\n",
       "      <td>AFN</td>\n",
       "      <td>PayStation</td>\n",
       "    </tr>\n",
       "    <tr>\n",
       "      <th>3</th>\n",
       "      <td>10051</td>\n",
       "      <td>Shipment</td>\n",
       "      <td>01-01-2023 00:34</td>\n",
       "      <td>1</td>\n",
       "      <td>Item 15</td>\n",
       "      <td>Category 6</td>\n",
       "      <td>Ernakulam</td>\n",
       "      <td>Kerala</td>\n",
       "      <td>1149.0</td>\n",
       "      <td>AFN</td>\n",
       "      <td>CC</td>\n",
       "    </tr>\n",
       "    <tr>\n",
       "      <th>4</th>\n",
       "      <td>10052</td>\n",
       "      <td>Shipment</td>\n",
       "      <td>01-01-2023 02:00</td>\n",
       "      <td>1</td>\n",
       "      <td>Item 15</td>\n",
       "      <td>Category 6</td>\n",
       "      <td>New Delhi</td>\n",
       "      <td>Delhi</td>\n",
       "      <td>1149.0</td>\n",
       "      <td>AFN</td>\n",
       "      <td>PayStation</td>\n",
       "    </tr>\n",
       "  </tbody>\n",
       "</table>\n",
       "</div>"
      ],
      "text/plain": [
       "   Order ID Transaction Type Order Date & Time  Quantity  Product    Category  \\\n",
       "0     10048         Shipment  01-01-2023 03:29         1  Item 25  Category 8   \n",
       "1     10049         Shipment  01-01-2023 00:48         1   Item 9  Category 4   \n",
       "2     10050         Shipment  01-01-2023 00:34         1  Item 15  Category 6   \n",
       "3     10051         Shipment  01-01-2023 00:34         1  Item 15  Category 6   \n",
       "4     10052         Shipment  01-01-2023 02:00         1  Item 15  Category 6   \n",
       "\n",
       "  Ship To City Ship To State  Invoice Amount Fulfillment Channel  \\\n",
       "0    Faridabad       Haryana          1249.0                 AFN   \n",
       "1    Faridabad       Haryana           939.0                 AFN   \n",
       "2        Thane   Maharashtra          1149.0                 AFN   \n",
       "3    Ernakulam        Kerala          1149.0                 AFN   \n",
       "4    New Delhi         Delhi          1149.0                 AFN   \n",
       "\n",
       "  Payment Method Code  \n",
       "0                  CC  \n",
       "1                 COD  \n",
       "2          PayStation  \n",
       "3                  CC  \n",
       "4          PayStation  "
      ]
     },
     "execution_count": 37,
     "metadata": {},
     "output_type": "execute_result"
    }
   ],
   "source": [
    "data = pd.read_csv('Sales data.csv')\n",
    "data.head()"
   ]
  },
  {
   "cell_type": "markdown",
   "id": "bf3417fc",
   "metadata": {},
   "source": [
    "**Converting our timestamp string data to datetime format**"
   ]
  },
  {
   "cell_type": "code",
   "execution_count": 38,
   "id": "29057217",
   "metadata": {
    "scrolled": false
   },
   "outputs": [],
   "source": [
    "data['Order Date & Time'] = pd.to_datetime(data['Order Date & Time'], format = '%d-%m-%Y %H:%M')"
   ]
  },
  {
   "cell_type": "code",
   "execution_count": 39,
   "id": "c84ae8c7",
   "metadata": {
    "scrolled": true
   },
   "outputs": [
    {
     "data": {
      "text/html": [
       "<div>\n",
       "<style scoped>\n",
       "    .dataframe tbody tr th:only-of-type {\n",
       "        vertical-align: middle;\n",
       "    }\n",
       "\n",
       "    .dataframe tbody tr th {\n",
       "        vertical-align: top;\n",
       "    }\n",
       "\n",
       "    .dataframe thead th {\n",
       "        text-align: right;\n",
       "    }\n",
       "</style>\n",
       "<table border=\"1\" class=\"dataframe\">\n",
       "  <thead>\n",
       "    <tr style=\"text-align: right;\">\n",
       "      <th></th>\n",
       "      <th>Order ID</th>\n",
       "      <th>Transaction Type</th>\n",
       "      <th>Order Date &amp; Time</th>\n",
       "      <th>Quantity</th>\n",
       "      <th>Product</th>\n",
       "      <th>Category</th>\n",
       "      <th>Ship To City</th>\n",
       "      <th>Ship To State</th>\n",
       "      <th>Invoice Amount</th>\n",
       "      <th>Fulfillment Channel</th>\n",
       "      <th>Payment Method Code</th>\n",
       "    </tr>\n",
       "  </thead>\n",
       "  <tbody>\n",
       "    <tr>\n",
       "      <th>0</th>\n",
       "      <td>10048</td>\n",
       "      <td>Shipment</td>\n",
       "      <td>2023-01-01 03:29:00</td>\n",
       "      <td>1</td>\n",
       "      <td>Item 25</td>\n",
       "      <td>Category 8</td>\n",
       "      <td>Faridabad</td>\n",
       "      <td>Haryana</td>\n",
       "      <td>1249.0</td>\n",
       "      <td>AFN</td>\n",
       "      <td>CC</td>\n",
       "    </tr>\n",
       "    <tr>\n",
       "      <th>1</th>\n",
       "      <td>10049</td>\n",
       "      <td>Shipment</td>\n",
       "      <td>2023-01-01 00:48:00</td>\n",
       "      <td>1</td>\n",
       "      <td>Item 9</td>\n",
       "      <td>Category 4</td>\n",
       "      <td>Faridabad</td>\n",
       "      <td>Haryana</td>\n",
       "      <td>939.0</td>\n",
       "      <td>AFN</td>\n",
       "      <td>COD</td>\n",
       "    </tr>\n",
       "    <tr>\n",
       "      <th>2</th>\n",
       "      <td>10050</td>\n",
       "      <td>Shipment</td>\n",
       "      <td>2023-01-01 00:34:00</td>\n",
       "      <td>1</td>\n",
       "      <td>Item 15</td>\n",
       "      <td>Category 6</td>\n",
       "      <td>Thane</td>\n",
       "      <td>Maharashtra</td>\n",
       "      <td>1149.0</td>\n",
       "      <td>AFN</td>\n",
       "      <td>PayStation</td>\n",
       "    </tr>\n",
       "    <tr>\n",
       "      <th>3</th>\n",
       "      <td>10051</td>\n",
       "      <td>Shipment</td>\n",
       "      <td>2023-01-01 00:34:00</td>\n",
       "      <td>1</td>\n",
       "      <td>Item 15</td>\n",
       "      <td>Category 6</td>\n",
       "      <td>Ernakulam</td>\n",
       "      <td>Kerala</td>\n",
       "      <td>1149.0</td>\n",
       "      <td>AFN</td>\n",
       "      <td>CC</td>\n",
       "    </tr>\n",
       "    <tr>\n",
       "      <th>4</th>\n",
       "      <td>10052</td>\n",
       "      <td>Shipment</td>\n",
       "      <td>2023-01-01 02:00:00</td>\n",
       "      <td>1</td>\n",
       "      <td>Item 15</td>\n",
       "      <td>Category 6</td>\n",
       "      <td>New Delhi</td>\n",
       "      <td>Delhi</td>\n",
       "      <td>1149.0</td>\n",
       "      <td>AFN</td>\n",
       "      <td>PayStation</td>\n",
       "    </tr>\n",
       "  </tbody>\n",
       "</table>\n",
       "</div>"
      ],
      "text/plain": [
       "   Order ID Transaction Type   Order Date & Time  Quantity  Product  \\\n",
       "0     10048         Shipment 2023-01-01 03:29:00         1  Item 25   \n",
       "1     10049         Shipment 2023-01-01 00:48:00         1   Item 9   \n",
       "2     10050         Shipment 2023-01-01 00:34:00         1  Item 15   \n",
       "3     10051         Shipment 2023-01-01 00:34:00         1  Item 15   \n",
       "4     10052         Shipment 2023-01-01 02:00:00         1  Item 15   \n",
       "\n",
       "     Category Ship To City Ship To State  Invoice Amount Fulfillment Channel  \\\n",
       "0  Category 8    Faridabad       Haryana          1249.0                 AFN   \n",
       "1  Category 4    Faridabad       Haryana           939.0                 AFN   \n",
       "2  Category 6        Thane   Maharashtra          1149.0                 AFN   \n",
       "3  Category 6    Ernakulam        Kerala          1149.0                 AFN   \n",
       "4  Category 6    New Delhi         Delhi          1149.0                 AFN   \n",
       "\n",
       "  Payment Method Code  \n",
       "0                  CC  \n",
       "1                 COD  \n",
       "2          PayStation  \n",
       "3                  CC  \n",
       "4          PayStation  "
      ]
     },
     "execution_count": 39,
     "metadata": {},
     "output_type": "execute_result"
    }
   ],
   "source": [
    "data.head()"
   ]
  },
  {
   "cell_type": "markdown",
   "id": "249d2431",
   "metadata": {},
   "source": [
    "**Getting information regarding our data**"
   ]
  },
  {
   "cell_type": "code",
   "execution_count": 40,
   "id": "1339afc7",
   "metadata": {},
   "outputs": [
    {
     "name": "stdout",
     "output_type": "stream",
     "text": [
      "<class 'pandas.core.frame.DataFrame'>\n",
      "RangeIndex: 75433 entries, 0 to 75432\n",
      "Data columns (total 11 columns):\n",
      " #   Column               Non-Null Count  Dtype         \n",
      "---  ------               --------------  -----         \n",
      " 0   Order ID             75433 non-null  int64         \n",
      " 1   Transaction Type     75433 non-null  object        \n",
      " 2   Order Date & Time    75433 non-null  datetime64[ns]\n",
      " 3   Quantity             75433 non-null  int64         \n",
      " 4   Product              75433 non-null  object        \n",
      " 5   Category             75433 non-null  object        \n",
      " 6   Ship To City         75433 non-null  object        \n",
      " 7   Ship To State        75433 non-null  object        \n",
      " 8   Invoice Amount       75433 non-null  float64       \n",
      " 9   Fulfillment Channel  75433 non-null  object        \n",
      " 10  Payment Method Code  75433 non-null  object        \n",
      "dtypes: datetime64[ns](1), float64(1), int64(2), object(7)\n",
      "memory usage: 6.3+ MB\n"
     ]
    }
   ],
   "source": [
    "data.info()"
   ]
  },
  {
   "cell_type": "markdown",
   "id": "903b6039",
   "metadata": {},
   "source": [
    "As seen above, our data has 11 columns with 75433 total entries and no null values"
   ]
  },
  {
   "cell_type": "markdown",
   "id": "61dbb3fe",
   "metadata": {},
   "source": [
    "# Q1 - Identify the 5 items with the highest revenue"
   ]
  },
  {
   "cell_type": "code",
   "execution_count": 41,
   "id": "bf676946",
   "metadata": {},
   "outputs": [
    {
     "data": {
      "text/html": [
       "<div>\n",
       "<style scoped>\n",
       "    .dataframe tbody tr th:only-of-type {\n",
       "        vertical-align: middle;\n",
       "    }\n",
       "\n",
       "    .dataframe tbody tr th {\n",
       "        vertical-align: top;\n",
       "    }\n",
       "\n",
       "    .dataframe thead th {\n",
       "        text-align: right;\n",
       "    }\n",
       "</style>\n",
       "<table border=\"1\" class=\"dataframe\">\n",
       "  <thead>\n",
       "    <tr style=\"text-align: right;\">\n",
       "      <th></th>\n",
       "      <th>Invoice Amount</th>\n",
       "      <th>Quantity</th>\n",
       "    </tr>\n",
       "    <tr>\n",
       "      <th>Product</th>\n",
       "      <th></th>\n",
       "      <th></th>\n",
       "    </tr>\n",
       "  </thead>\n",
       "  <tbody>\n",
       "    <tr>\n",
       "      <th>Item 14</th>\n",
       "      <td>15106935.63</td>\n",
       "      <td>12130</td>\n",
       "    </tr>\n",
       "    <tr>\n",
       "      <th>Item 15</th>\n",
       "      <td>13390443.85</td>\n",
       "      <td>14786</td>\n",
       "    </tr>\n",
       "    <tr>\n",
       "      <th>Item 26</th>\n",
       "      <td>5136127.44</td>\n",
       "      <td>6308</td>\n",
       "    </tr>\n",
       "    <tr>\n",
       "      <th>Item 4</th>\n",
       "      <td>3720225.33</td>\n",
       "      <td>3656</td>\n",
       "    </tr>\n",
       "    <tr>\n",
       "      <th>Item 28</th>\n",
       "      <td>3024434.00</td>\n",
       "      <td>5546</td>\n",
       "    </tr>\n",
       "  </tbody>\n",
       "</table>\n",
       "</div>"
      ],
      "text/plain": [
       "         Invoice Amount  Quantity\n",
       "Product                          \n",
       "Item 14     15106935.63     12130\n",
       "Item 15     13390443.85     14786\n",
       "Item 26      5136127.44      6308\n",
       "Item 4       3720225.33      3656\n",
       "Item 28      3024434.00      5546"
      ]
     },
     "execution_count": 41,
     "metadata": {},
     "output_type": "execute_result"
    }
   ],
   "source": [
    "data[['Invoice Amount','Quantity']].groupby(data['Product']).sum().sort_values(by = 'Invoice Amount', ascending=False).head(5)\n"
   ]
  },
  {
   "cell_type": "markdown",
   "id": "dae790d2",
   "metadata": {},
   "source": [
    "# Q2 - Identify the 5 categories with the highest revenue"
   ]
  },
  {
   "cell_type": "code",
   "execution_count": 42,
   "id": "eb947239",
   "metadata": {},
   "outputs": [
    {
     "data": {
      "text/html": [
       "<div>\n",
       "<style scoped>\n",
       "    .dataframe tbody tr th:only-of-type {\n",
       "        vertical-align: middle;\n",
       "    }\n",
       "\n",
       "    .dataframe tbody tr th {\n",
       "        vertical-align: top;\n",
       "    }\n",
       "\n",
       "    .dataframe thead th {\n",
       "        text-align: right;\n",
       "    }\n",
       "</style>\n",
       "<table border=\"1\" class=\"dataframe\">\n",
       "  <thead>\n",
       "    <tr style=\"text-align: right;\">\n",
       "      <th></th>\n",
       "      <th>Invoice Amount</th>\n",
       "      <th>Quantity</th>\n",
       "    </tr>\n",
       "    <tr>\n",
       "      <th>Category</th>\n",
       "      <th></th>\n",
       "      <th></th>\n",
       "    </tr>\n",
       "  </thead>\n",
       "  <tbody>\n",
       "    <tr>\n",
       "      <th>Category 5</th>\n",
       "      <td>15106935.63</td>\n",
       "      <td>12130</td>\n",
       "    </tr>\n",
       "    <tr>\n",
       "      <th>Category 6</th>\n",
       "      <td>13477724.89</td>\n",
       "      <td>14855</td>\n",
       "    </tr>\n",
       "    <tr>\n",
       "      <th>Category 8</th>\n",
       "      <td>11603242.16</td>\n",
       "      <td>13611</td>\n",
       "    </tr>\n",
       "    <tr>\n",
       "      <th>Category 1</th>\n",
       "      <td>8794324.71</td>\n",
       "      <td>10917</td>\n",
       "    </tr>\n",
       "    <tr>\n",
       "      <th>Category 7</th>\n",
       "      <td>4002991.04</td>\n",
       "      <td>7431</td>\n",
       "    </tr>\n",
       "  </tbody>\n",
       "</table>\n",
       "</div>"
      ],
      "text/plain": [
       "            Invoice Amount  Quantity\n",
       "Category                            \n",
       "Category 5     15106935.63     12130\n",
       "Category 6     13477724.89     14855\n",
       "Category 8     11603242.16     13611\n",
       "Category 1      8794324.71     10917\n",
       "Category 7      4002991.04      7431"
      ]
     },
     "execution_count": 42,
     "metadata": {},
     "output_type": "execute_result"
    }
   ],
   "source": [
    "data[['Invoice Amount','Quantity']].groupby(data['Category']).sum().sort_values(by = 'Invoice Amount', ascending=False).head(5)"
   ]
  },
  {
   "cell_type": "markdown",
   "id": "5ceba76c",
   "metadata": {},
   "source": [
    "# Q3 - Identify the 5 cities with the highest revenue"
   ]
  },
  {
   "cell_type": "code",
   "execution_count": 43,
   "id": "1a92d94f",
   "metadata": {},
   "outputs": [
    {
     "data": {
      "text/html": [
       "<div>\n",
       "<style scoped>\n",
       "    .dataframe tbody tr th:only-of-type {\n",
       "        vertical-align: middle;\n",
       "    }\n",
       "\n",
       "    .dataframe tbody tr th {\n",
       "        vertical-align: top;\n",
       "    }\n",
       "\n",
       "    .dataframe thead th {\n",
       "        text-align: right;\n",
       "    }\n",
       "</style>\n",
       "<table border=\"1\" class=\"dataframe\">\n",
       "  <thead>\n",
       "    <tr style=\"text-align: right;\">\n",
       "      <th></th>\n",
       "      <th></th>\n",
       "      <th>Invoice Amount</th>\n",
       "      <th>Quantity</th>\n",
       "    </tr>\n",
       "    <tr>\n",
       "      <th>Ship To City</th>\n",
       "      <th>Ship To State</th>\n",
       "      <th></th>\n",
       "      <th></th>\n",
       "    </tr>\n",
       "  </thead>\n",
       "  <tbody>\n",
       "    <tr>\n",
       "      <th>Bengaluru</th>\n",
       "      <th>Karnataka</th>\n",
       "      <td>8115371.03</td>\n",
       "      <td>9315</td>\n",
       "    </tr>\n",
       "    <tr>\n",
       "      <th>New Delhi</th>\n",
       "      <th>Delhi</th>\n",
       "      <td>4806377.08</td>\n",
       "      <td>5647</td>\n",
       "    </tr>\n",
       "    <tr>\n",
       "      <th>Hyderabad</th>\n",
       "      <th>Telangana</th>\n",
       "      <td>4083699.22</td>\n",
       "      <td>4973</td>\n",
       "    </tr>\n",
       "    <tr>\n",
       "      <th>Mumbai</th>\n",
       "      <th>Maharashtra</th>\n",
       "      <td>3667405.66</td>\n",
       "      <td>4168</td>\n",
       "    </tr>\n",
       "    <tr>\n",
       "      <th>Chennai</th>\n",
       "      <th>Tamil Nadu</th>\n",
       "      <td>2648672.87</td>\n",
       "      <td>3176</td>\n",
       "    </tr>\n",
       "  </tbody>\n",
       "</table>\n",
       "</div>"
      ],
      "text/plain": [
       "                            Invoice Amount  Quantity\n",
       "Ship To City Ship To State                          \n",
       "Bengaluru    Karnataka          8115371.03      9315\n",
       "New Delhi    Delhi              4806377.08      5647\n",
       "Hyderabad    Telangana          4083699.22      4973\n",
       "Mumbai       Maharashtra        3667405.66      4168\n",
       "Chennai      Tamil Nadu         2648672.87      3176"
      ]
     },
     "execution_count": 43,
     "metadata": {},
     "output_type": "execute_result"
    }
   ],
   "source": [
    "city_grp = data[['Invoice Amount', 'Quantity']].groupby([data['Ship To City'],data['Ship To State']])\n",
    "city_grp.sum().sort_values(by = 'Invoice Amount', ascending=False).head(5)"
   ]
  },
  {
   "cell_type": "markdown",
   "id": "cb17d411",
   "metadata": {},
   "source": [
    "# Q4 - Identify the 5 states with the highest revenue"
   ]
  },
  {
   "cell_type": "code",
   "execution_count": 44,
   "id": "34ac6865",
   "metadata": {},
   "outputs": [
    {
     "data": {
      "text/html": [
       "<div>\n",
       "<style scoped>\n",
       "    .dataframe tbody tr th:only-of-type {\n",
       "        vertical-align: middle;\n",
       "    }\n",
       "\n",
       "    .dataframe tbody tr th {\n",
       "        vertical-align: top;\n",
       "    }\n",
       "\n",
       "    .dataframe thead th {\n",
       "        text-align: right;\n",
       "    }\n",
       "</style>\n",
       "<table border=\"1\" class=\"dataframe\">\n",
       "  <thead>\n",
       "    <tr style=\"text-align: right;\">\n",
       "      <th></th>\n",
       "      <th>Invoice Amount</th>\n",
       "      <th>Quantity</th>\n",
       "    </tr>\n",
       "    <tr>\n",
       "      <th>Ship To State</th>\n",
       "      <th></th>\n",
       "      <th></th>\n",
       "    </tr>\n",
       "  </thead>\n",
       "  <tbody>\n",
       "    <tr>\n",
       "      <th>Maharashtra</th>\n",
       "      <td>10041395.48</td>\n",
       "      <td>11848</td>\n",
       "    </tr>\n",
       "    <tr>\n",
       "      <th>Karnataka</th>\n",
       "      <td>9822397.27</td>\n",
       "      <td>11274</td>\n",
       "    </tr>\n",
       "    <tr>\n",
       "      <th>Uttar Pradesh</th>\n",
       "      <td>5739387.61</td>\n",
       "      <td>7256</td>\n",
       "    </tr>\n",
       "    <tr>\n",
       "      <th>Delhi</th>\n",
       "      <td>5275652.51</td>\n",
       "      <td>6202</td>\n",
       "    </tr>\n",
       "    <tr>\n",
       "      <th>Tamil Nadu</th>\n",
       "      <td>5145137.83</td>\n",
       "      <td>6259</td>\n",
       "    </tr>\n",
       "  </tbody>\n",
       "</table>\n",
       "</div>"
      ],
      "text/plain": [
       "               Invoice Amount  Quantity\n",
       "Ship To State                          \n",
       "Maharashtra       10041395.48     11848\n",
       "Karnataka          9822397.27     11274\n",
       "Uttar Pradesh      5739387.61      7256\n",
       "Delhi              5275652.51      6202\n",
       "Tamil Nadu         5145137.83      6259"
      ]
     },
     "execution_count": 44,
     "metadata": {},
     "output_type": "execute_result"
    }
   ],
   "source": [
    "state_grp = data[['Invoice Amount', 'Quantity']].groupby(data['Ship To State'])\n",
    "state_grp.sum().sort_values(by= 'Invoice Amount', ascending=False).head(5)\n"
   ]
  },
  {
   "cell_type": "markdown",
   "id": "b74fa9fa",
   "metadata": {},
   "source": [
    "# Q5 - Identify the top 5 payment methods by transaction amount"
   ]
  },
  {
   "cell_type": "code",
   "execution_count": 45,
   "id": "6c331498",
   "metadata": {},
   "outputs": [
    {
     "data": {
      "text/html": [
       "<div>\n",
       "<style scoped>\n",
       "    .dataframe tbody tr th:only-of-type {\n",
       "        vertical-align: middle;\n",
       "    }\n",
       "\n",
       "    .dataframe tbody tr th {\n",
       "        vertical-align: top;\n",
       "    }\n",
       "\n",
       "    .dataframe thead th {\n",
       "        text-align: right;\n",
       "    }\n",
       "</style>\n",
       "<table border=\"1\" class=\"dataframe\">\n",
       "  <thead>\n",
       "    <tr style=\"text-align: right;\">\n",
       "      <th></th>\n",
       "      <th>Invoice Amount</th>\n",
       "      <th>Quantity</th>\n",
       "    </tr>\n",
       "    <tr>\n",
       "      <th>Payment Method Code</th>\n",
       "      <th></th>\n",
       "      <th></th>\n",
       "    </tr>\n",
       "  </thead>\n",
       "  <tbody>\n",
       "    <tr>\n",
       "      <th>COD</th>\n",
       "      <td>17713425.87</td>\n",
       "      <td>23747</td>\n",
       "    </tr>\n",
       "    <tr>\n",
       "      <th>PayStation</th>\n",
       "      <td>17702696.22</td>\n",
       "      <td>20194</td>\n",
       "    </tr>\n",
       "    <tr>\n",
       "      <th>CC</th>\n",
       "      <td>16513711.65</td>\n",
       "      <td>18246</td>\n",
       "    </tr>\n",
       "    <tr>\n",
       "      <th>GC_POA_PayStation</th>\n",
       "      <td>3622923.81</td>\n",
       "      <td>4141</td>\n",
       "    </tr>\n",
       "    <tr>\n",
       "      <th>CC_GC_POA</th>\n",
       "      <td>3455971.15</td>\n",
       "      <td>3939</td>\n",
       "    </tr>\n",
       "  </tbody>\n",
       "</table>\n",
       "</div>"
      ],
      "text/plain": [
       "                     Invoice Amount  Quantity\n",
       "Payment Method Code                          \n",
       "COD                     17713425.87     23747\n",
       "PayStation              17702696.22     20194\n",
       "CC                      16513711.65     18246\n",
       "GC_POA_PayStation        3622923.81      4141\n",
       "CC_GC_POA                3455971.15      3939"
      ]
     },
     "execution_count": 45,
     "metadata": {},
     "output_type": "execute_result"
    }
   ],
   "source": [
    "payment_grp = data[['Invoice Amount','Quantity']].groupby(data['Payment Method Code'])\n",
    "payment_grp.sum().sort_values(by = 'Invoice Amount', ascending=False).head(5)"
   ]
  },
  {
   "cell_type": "markdown",
   "id": "457bee89",
   "metadata": {},
   "source": [
    "# Q6 - Calculate the total return/refund percentage"
   ]
  },
  {
   "cell_type": "code",
   "execution_count": 46,
   "id": "efb8dc90",
   "metadata": {},
   "outputs": [
    {
     "data": {
      "text/plain": [
       "Transaction Type\n",
       "FreeReplacement           0.00\n",
       "Refund             -8568491.69\n",
       "Shipment           72229873.91\n",
       "Name: Invoice Amount, dtype: float64"
      ]
     },
     "execution_count": 46,
     "metadata": {},
     "output_type": "execute_result"
    }
   ],
   "source": [
    "transaction_grp = data['Invoice Amount'].groupby(data['Transaction Type'])\n",
    "transaction_grp.sum()"
   ]
  },
  {
   "cell_type": "code",
   "execution_count": 68,
   "id": "d9af954f",
   "metadata": {},
   "outputs": [
    {
     "data": {
      "text/plain": [
       "13.459481071883017"
      ]
     },
     "execution_count": 68,
     "metadata": {},
     "output_type": "execute_result"
    }
   ],
   "source": [
    "# Calculating the total refund percentage\n",
    "refund_percent = abs(transaction_grp.sum()[1])/(transaction_grp.sum()[1] + transaction_grp.sum()[2])*100\n",
    "refund_percent"
   ]
  },
  {
   "cell_type": "markdown",
   "id": "b5db4dd7",
   "metadata": {},
   "source": [
    "# Q7 - Identify the month with the highest revenue"
   ]
  },
  {
   "cell_type": "code",
   "execution_count": 50,
   "id": "863cc379",
   "metadata": {},
   "outputs": [
    {
     "data": {
      "text/html": [
       "<div>\n",
       "<style scoped>\n",
       "    .dataframe tbody tr th:only-of-type {\n",
       "        vertical-align: middle;\n",
       "    }\n",
       "\n",
       "    .dataframe tbody tr th {\n",
       "        vertical-align: top;\n",
       "    }\n",
       "\n",
       "    .dataframe thead th {\n",
       "        text-align: right;\n",
       "    }\n",
       "</style>\n",
       "<table border=\"1\" class=\"dataframe\">\n",
       "  <thead>\n",
       "    <tr style=\"text-align: right;\">\n",
       "      <th></th>\n",
       "      <th>Order ID</th>\n",
       "      <th>Transaction Type</th>\n",
       "      <th>Order Date &amp; Time</th>\n",
       "      <th>Quantity</th>\n",
       "      <th>Product</th>\n",
       "      <th>Category</th>\n",
       "      <th>Ship To City</th>\n",
       "      <th>Ship To State</th>\n",
       "      <th>Invoice Amount</th>\n",
       "      <th>Fulfillment Channel</th>\n",
       "      <th>Payment Method Code</th>\n",
       "      <th>Order Month</th>\n",
       "    </tr>\n",
       "  </thead>\n",
       "  <tbody>\n",
       "    <tr>\n",
       "      <th>0</th>\n",
       "      <td>10048</td>\n",
       "      <td>Shipment</td>\n",
       "      <td>2023-01-01 03:29:00</td>\n",
       "      <td>1</td>\n",
       "      <td>Item 25</td>\n",
       "      <td>Category 8</td>\n",
       "      <td>Faridabad</td>\n",
       "      <td>Haryana</td>\n",
       "      <td>1249.0</td>\n",
       "      <td>AFN</td>\n",
       "      <td>CC</td>\n",
       "      <td>January</td>\n",
       "    </tr>\n",
       "    <tr>\n",
       "      <th>1</th>\n",
       "      <td>10049</td>\n",
       "      <td>Shipment</td>\n",
       "      <td>2023-01-01 00:48:00</td>\n",
       "      <td>1</td>\n",
       "      <td>Item 9</td>\n",
       "      <td>Category 4</td>\n",
       "      <td>Faridabad</td>\n",
       "      <td>Haryana</td>\n",
       "      <td>939.0</td>\n",
       "      <td>AFN</td>\n",
       "      <td>COD</td>\n",
       "      <td>January</td>\n",
       "    </tr>\n",
       "    <tr>\n",
       "      <th>2</th>\n",
       "      <td>10050</td>\n",
       "      <td>Shipment</td>\n",
       "      <td>2023-01-01 00:34:00</td>\n",
       "      <td>1</td>\n",
       "      <td>Item 15</td>\n",
       "      <td>Category 6</td>\n",
       "      <td>Thane</td>\n",
       "      <td>Maharashtra</td>\n",
       "      <td>1149.0</td>\n",
       "      <td>AFN</td>\n",
       "      <td>PayStation</td>\n",
       "      <td>January</td>\n",
       "    </tr>\n",
       "    <tr>\n",
       "      <th>3</th>\n",
       "      <td>10051</td>\n",
       "      <td>Shipment</td>\n",
       "      <td>2023-01-01 00:34:00</td>\n",
       "      <td>1</td>\n",
       "      <td>Item 15</td>\n",
       "      <td>Category 6</td>\n",
       "      <td>Ernakulam</td>\n",
       "      <td>Kerala</td>\n",
       "      <td>1149.0</td>\n",
       "      <td>AFN</td>\n",
       "      <td>CC</td>\n",
       "      <td>January</td>\n",
       "    </tr>\n",
       "    <tr>\n",
       "      <th>4</th>\n",
       "      <td>10052</td>\n",
       "      <td>Shipment</td>\n",
       "      <td>2023-01-01 02:00:00</td>\n",
       "      <td>1</td>\n",
       "      <td>Item 15</td>\n",
       "      <td>Category 6</td>\n",
       "      <td>New Delhi</td>\n",
       "      <td>Delhi</td>\n",
       "      <td>1149.0</td>\n",
       "      <td>AFN</td>\n",
       "      <td>PayStation</td>\n",
       "      <td>January</td>\n",
       "    </tr>\n",
       "  </tbody>\n",
       "</table>\n",
       "</div>"
      ],
      "text/plain": [
       "   Order ID Transaction Type   Order Date & Time  Quantity  Product  \\\n",
       "0     10048         Shipment 2023-01-01 03:29:00         1  Item 25   \n",
       "1     10049         Shipment 2023-01-01 00:48:00         1   Item 9   \n",
       "2     10050         Shipment 2023-01-01 00:34:00         1  Item 15   \n",
       "3     10051         Shipment 2023-01-01 00:34:00         1  Item 15   \n",
       "4     10052         Shipment 2023-01-01 02:00:00         1  Item 15   \n",
       "\n",
       "     Category Ship To City Ship To State  Invoice Amount Fulfillment Channel  \\\n",
       "0  Category 8    Faridabad       Haryana          1249.0                 AFN   \n",
       "1  Category 4    Faridabad       Haryana           939.0                 AFN   \n",
       "2  Category 6        Thane   Maharashtra          1149.0                 AFN   \n",
       "3  Category 6    Ernakulam        Kerala          1149.0                 AFN   \n",
       "4  Category 6    New Delhi         Delhi          1149.0                 AFN   \n",
       "\n",
       "  Payment Method Code Order Month  \n",
       "0                  CC     January  \n",
       "1                 COD     January  \n",
       "2          PayStation     January  \n",
       "3                  CC     January  \n",
       "4          PayStation     January  "
      ]
     },
     "execution_count": 50,
     "metadata": {},
     "output_type": "execute_result"
    }
   ],
   "source": [
    "# Creating a new month column\n",
    "data['Order Month'] = data['Order Date & Time'].dt.month_name()\n",
    "data.head()"
   ]
  },
  {
   "cell_type": "code",
   "execution_count": 51,
   "id": "34cf8d49",
   "metadata": {},
   "outputs": [
    {
     "data": {
      "text/plain": [
       "Order Month\n",
       "November     10765221.77\n",
       "August        7958586.00\n",
       "May           6287757.64\n",
       "October       5988182.09\n",
       "February      5463488.25\n",
       "September     5399680.00\n",
       "July          5055306.00\n",
       "June          4787094.00\n",
       "April         4260286.53\n",
       "March         3945915.79\n",
       "January       3749864.15\n",
       "Name: Invoice Amount, dtype: float64"
      ]
     },
     "execution_count": 51,
     "metadata": {},
     "output_type": "execute_result"
    }
   ],
   "source": [
    "monthly_sales = data['Invoice Amount'].groupby(data['Order Month'])\n",
    "monthly_sales.sum().sort_values(ascending = False)"
   ]
  },
  {
   "cell_type": "code",
   "execution_count": 77,
   "id": "b24bea1f",
   "metadata": {},
   "outputs": [
    {
     "data": {
      "image/png": "[encoded data removed]",
      "text/plain": [
       "<Figure size 1000x400 with 1 Axes>"
      ]
     },
     "metadata": {},
     "output_type": "display_data"
    }
   ],
   "source": [
    "monthly_sales.sum().plot(kind='bar', figsize=(10,4))\n",
    "plt.title('Monthly Sales', fontweight = 'bold')\n",
    "plt.ylabel('Daily Sales', fontweight = 'bold')\n",
    "plt.xlabel('Month', fontweight = 'bold')\n",
    "plt.grid(True, axis='y', linestyle='--')"
   ]
  },
  {
   "cell_type": "markdown",
   "id": "912fa39a",
   "metadata": {},
   "source": [
    "# Q8 - Identify orders by time of day to optimize advertisement spends during that time"
   ]
  },
  {
   "cell_type": "code",
   "execution_count": 53,
   "id": "5cc4a48d",
   "metadata": {},
   "outputs": [
    {
     "data": {
      "text/html": [
       "<div>\n",
       "<style scoped>\n",
       "    .dataframe tbody tr th:only-of-type {\n",
       "        vertical-align: middle;\n",
       "    }\n",
       "\n",
       "    .dataframe tbody tr th {\n",
       "        vertical-align: top;\n",
       "    }\n",
       "\n",
       "    .dataframe thead th {\n",
       "        text-align: right;\n",
       "    }\n",
       "</style>\n",
       "<table border=\"1\" class=\"dataframe\">\n",
       "  <thead>\n",
       "    <tr style=\"text-align: right;\">\n",
       "      <th></th>\n",
       "      <th>Order ID</th>\n",
       "      <th>Transaction Type</th>\n",
       "      <th>Order Date &amp; Time</th>\n",
       "      <th>Quantity</th>\n",
       "      <th>Product</th>\n",
       "      <th>Category</th>\n",
       "      <th>Ship To City</th>\n",
       "      <th>Ship To State</th>\n",
       "      <th>Invoice Amount</th>\n",
       "      <th>Fulfillment Channel</th>\n",
       "      <th>Payment Method Code</th>\n",
       "      <th>Order Month</th>\n",
       "      <th>Order Time (in h)</th>\n",
       "    </tr>\n",
       "  </thead>\n",
       "  <tbody>\n",
       "    <tr>\n",
       "      <th>0</th>\n",
       "      <td>10048</td>\n",
       "      <td>Shipment</td>\n",
       "      <td>2023-01-01 03:29:00</td>\n",
       "      <td>1</td>\n",
       "      <td>Item 25</td>\n",
       "      <td>Category 8</td>\n",
       "      <td>Faridabad</td>\n",
       "      <td>Haryana</td>\n",
       "      <td>1249.0</td>\n",
       "      <td>AFN</td>\n",
       "      <td>CC</td>\n",
       "      <td>January</td>\n",
       "      <td>3</td>\n",
       "    </tr>\n",
       "    <tr>\n",
       "      <th>1</th>\n",
       "      <td>10049</td>\n",
       "      <td>Shipment</td>\n",
       "      <td>2023-01-01 00:48:00</td>\n",
       "      <td>1</td>\n",
       "      <td>Item 9</td>\n",
       "      <td>Category 4</td>\n",
       "      <td>Faridabad</td>\n",
       "      <td>Haryana</td>\n",
       "      <td>939.0</td>\n",
       "      <td>AFN</td>\n",
       "      <td>COD</td>\n",
       "      <td>January</td>\n",
       "      <td>0</td>\n",
       "    </tr>\n",
       "    <tr>\n",
       "      <th>2</th>\n",
       "      <td>10050</td>\n",
       "      <td>Shipment</td>\n",
       "      <td>2023-01-01 00:34:00</td>\n",
       "      <td>1</td>\n",
       "      <td>Item 15</td>\n",
       "      <td>Category 6</td>\n",
       "      <td>Thane</td>\n",
       "      <td>Maharashtra</td>\n",
       "      <td>1149.0</td>\n",
       "      <td>AFN</td>\n",
       "      <td>PayStation</td>\n",
       "      <td>January</td>\n",
       "      <td>0</td>\n",
       "    </tr>\n",
       "    <tr>\n",
       "      <th>3</th>\n",
       "      <td>10051</td>\n",
       "      <td>Shipment</td>\n",
       "      <td>2023-01-01 00:34:00</td>\n",
       "      <td>1</td>\n",
       "      <td>Item 15</td>\n",
       "      <td>Category 6</td>\n",
       "      <td>Ernakulam</td>\n",
       "      <td>Kerala</td>\n",
       "      <td>1149.0</td>\n",
       "      <td>AFN</td>\n",
       "      <td>CC</td>\n",
       "      <td>January</td>\n",
       "      <td>0</td>\n",
       "    </tr>\n",
       "    <tr>\n",
       "      <th>4</th>\n",
       "      <td>10052</td>\n",
       "      <td>Shipment</td>\n",
       "      <td>2023-01-01 02:00:00</td>\n",
       "      <td>1</td>\n",
       "      <td>Item 15</td>\n",
       "      <td>Category 6</td>\n",
       "      <td>New Delhi</td>\n",
       "      <td>Delhi</td>\n",
       "      <td>1149.0</td>\n",
       "      <td>AFN</td>\n",
       "      <td>PayStation</td>\n",
       "      <td>January</td>\n",
       "      <td>2</td>\n",
       "    </tr>\n",
       "  </tbody>\n",
       "</table>\n",
       "</div>"
      ],
      "text/plain": [
       "   Order ID Transaction Type   Order Date & Time  Quantity  Product  \\\n",
       "0     10048         Shipment 2023-01-01 03:29:00         1  Item 25   \n",
       "1     10049         Shipment 2023-01-01 00:48:00         1   Item 9   \n",
       "2     10050         Shipment 2023-01-01 00:34:00         1  Item 15   \n",
       "3     10051         Shipment 2023-01-01 00:34:00         1  Item 15   \n",
       "4     10052         Shipment 2023-01-01 02:00:00         1  Item 15   \n",
       "\n",
       "     Category Ship To City Ship To State  Invoice Amount Fulfillment Channel  \\\n",
       "0  Category 8    Faridabad       Haryana          1249.0                 AFN   \n",
       "1  Category 4    Faridabad       Haryana           939.0                 AFN   \n",
       "2  Category 6        Thane   Maharashtra          1149.0                 AFN   \n",
       "3  Category 6    Ernakulam        Kerala          1149.0                 AFN   \n",
       "4  Category 6    New Delhi         Delhi          1149.0                 AFN   \n",
       "\n",
       "  Payment Method Code Order Month  Order Time (in h)  \n",
       "0                  CC     January                  3  \n",
       "1                 COD     January                  0  \n",
       "2          PayStation     January                  0  \n",
       "3                  CC     January                  0  \n",
       "4          PayStation     January                  2  "
      ]
     },
     "execution_count": 53,
     "metadata": {},
     "output_type": "execute_result"
    }
   ],
   "source": [
    "# Extracting time of day \n",
    "data['Order Time (in h)'] = data['Order Date & Time'].dt.hour\n",
    "data.head()"
   ]
  },
  {
   "cell_type": "code",
   "execution_count": 54,
   "id": "d9eb0cb1",
   "metadata": {},
   "outputs": [
    {
     "data": {
      "text/html": [
       "<div>\n",
       "<style scoped>\n",
       "    .dataframe tbody tr th:only-of-type {\n",
       "        vertical-align: middle;\n",
       "    }\n",
       "\n",
       "    .dataframe tbody tr th {\n",
       "        vertical-align: top;\n",
       "    }\n",
       "\n",
       "    .dataframe thead th {\n",
       "        text-align: right;\n",
       "    }\n",
       "</style>\n",
       "<table border=\"1\" class=\"dataframe\">\n",
       "  <thead>\n",
       "    <tr style=\"text-align: right;\">\n",
       "      <th></th>\n",
       "      <th>Order ID</th>\n",
       "      <th>Transaction Type</th>\n",
       "      <th>Order Date &amp; Time</th>\n",
       "      <th>Quantity</th>\n",
       "      <th>Product</th>\n",
       "      <th>Category</th>\n",
       "      <th>Ship To City</th>\n",
       "      <th>Ship To State</th>\n",
       "      <th>Invoice Amount</th>\n",
       "      <th>Fulfillment Channel</th>\n",
       "      <th>Payment Method Code</th>\n",
       "      <th>Order Month</th>\n",
       "      <th>Order Time (in h)</th>\n",
       "    </tr>\n",
       "  </thead>\n",
       "  <tbody>\n",
       "    <tr>\n",
       "      <th>0</th>\n",
       "      <td>10048</td>\n",
       "      <td>Shipment</td>\n",
       "      <td>2023-01-01 03:29:00</td>\n",
       "      <td>1</td>\n",
       "      <td>Item 25</td>\n",
       "      <td>Category 8</td>\n",
       "      <td>Faridabad</td>\n",
       "      <td>Haryana</td>\n",
       "      <td>1249.0</td>\n",
       "      <td>AFN</td>\n",
       "      <td>CC</td>\n",
       "      <td>January</td>\n",
       "      <td>3</td>\n",
       "    </tr>\n",
       "    <tr>\n",
       "      <th>1</th>\n",
       "      <td>10049</td>\n",
       "      <td>Shipment</td>\n",
       "      <td>2023-01-01 00:48:00</td>\n",
       "      <td>1</td>\n",
       "      <td>Item 9</td>\n",
       "      <td>Category 4</td>\n",
       "      <td>Faridabad</td>\n",
       "      <td>Haryana</td>\n",
       "      <td>939.0</td>\n",
       "      <td>AFN</td>\n",
       "      <td>COD</td>\n",
       "      <td>January</td>\n",
       "      <td>0</td>\n",
       "    </tr>\n",
       "    <tr>\n",
       "      <th>2</th>\n",
       "      <td>10050</td>\n",
       "      <td>Shipment</td>\n",
       "      <td>2023-01-01 00:34:00</td>\n",
       "      <td>1</td>\n",
       "      <td>Item 15</td>\n",
       "      <td>Category 6</td>\n",
       "      <td>Thane</td>\n",
       "      <td>Maharashtra</td>\n",
       "      <td>1149.0</td>\n",
       "      <td>AFN</td>\n",
       "      <td>PayStation</td>\n",
       "      <td>January</td>\n",
       "      <td>0</td>\n",
       "    </tr>\n",
       "    <tr>\n",
       "      <th>3</th>\n",
       "      <td>10051</td>\n",
       "      <td>Shipment</td>\n",
       "      <td>2023-01-01 00:34:00</td>\n",
       "      <td>1</td>\n",
       "      <td>Item 15</td>\n",
       "      <td>Category 6</td>\n",
       "      <td>Ernakulam</td>\n",
       "      <td>Kerala</td>\n",
       "      <td>1149.0</td>\n",
       "      <td>AFN</td>\n",
       "      <td>CC</td>\n",
       "      <td>January</td>\n",
       "      <td>0</td>\n",
       "    </tr>\n",
       "    <tr>\n",
       "      <th>4</th>\n",
       "      <td>10052</td>\n",
       "      <td>Shipment</td>\n",
       "      <td>2023-01-01 02:00:00</td>\n",
       "      <td>1</td>\n",
       "      <td>Item 15</td>\n",
       "      <td>Category 6</td>\n",
       "      <td>New Delhi</td>\n",
       "      <td>Delhi</td>\n",
       "      <td>1149.0</td>\n",
       "      <td>AFN</td>\n",
       "      <td>PayStation</td>\n",
       "      <td>January</td>\n",
       "      <td>2</td>\n",
       "    </tr>\n",
       "  </tbody>\n",
       "</table>\n",
       "</div>"
      ],
      "text/plain": [
       "   Order ID Transaction Type   Order Date & Time  Quantity  Product  \\\n",
       "0     10048         Shipment 2023-01-01 03:29:00         1  Item 25   \n",
       "1     10049         Shipment 2023-01-01 00:48:00         1   Item 9   \n",
       "2     10050         Shipment 2023-01-01 00:34:00         1  Item 15   \n",
       "3     10051         Shipment 2023-01-01 00:34:00         1  Item 15   \n",
       "4     10052         Shipment 2023-01-01 02:00:00         1  Item 15   \n",
       "\n",
       "     Category Ship To City Ship To State  Invoice Amount Fulfillment Channel  \\\n",
       "0  Category 8    Faridabad       Haryana          1249.0                 AFN   \n",
       "1  Category 4    Faridabad       Haryana           939.0                 AFN   \n",
       "2  Category 6        Thane   Maharashtra          1149.0                 AFN   \n",
       "3  Category 6    Ernakulam        Kerala          1149.0                 AFN   \n",
       "4  Category 6    New Delhi         Delhi          1149.0                 AFN   \n",
       "\n",
       "  Payment Method Code Order Month  Order Time (in h)  \n",
       "0                  CC     January                  3  \n",
       "1                 COD     January                  0  \n",
       "2          PayStation     January                  0  \n",
       "3                  CC     January                  0  \n",
       "4          PayStation     January                  2  "
      ]
     },
     "execution_count": 54,
     "metadata": {},
     "output_type": "execute_result"
    }
   ],
   "source": [
    "# Exclude refunds for counting orders not refunds\n",
    "refund_excluded = data[data['Transaction Type']=='Shipment']\n",
    "refund_excluded.head()"
   ]
  },
  {
   "cell_type": "code",
   "execution_count": 55,
   "id": "c7e55b3e",
   "metadata": {},
   "outputs": [
    {
     "data": {
      "text/plain": [
       "Order Time (in h)\n",
       "0    3218\n",
       "1    1895\n",
       "2    1028\n",
       "3     584\n",
       "4     367\n",
       "Name: Quantity, dtype: int64"
      ]
     },
     "execution_count": 55,
     "metadata": {},
     "output_type": "execute_result"
    }
   ],
   "source": [
    "hourly_sales = refund_excluded['Quantity'].groupby(data['Order Time (in h)']).sum()\n",
    "hourly_sales.head()"
   ]
  },
  {
   "cell_type": "code",
   "execution_count": 56,
   "id": "f10035c4",
   "metadata": {},
   "outputs": [
    {
     "data": {
      "image/png": "[encoded data removed]",
      "text/plain": [
       "<Figure size 1200x400 with 1 Axes>"
      ]
     },
     "metadata": {},
     "output_type": "display_data"
    }
   ],
   "source": [
    "plt.figure(figsize = (12,4))\n",
    "plt.plot(hourly_sales)\n",
    "plt.xticks(hourly_sales.index)\n",
    "plt.xlabel('Hour of Day', fontweight = 'bold')\n",
    "plt.ylabel('Orders', fontweight = 'bold')\n",
    "plt.title('Hourly Sales', fontweight = 'bold')\n",
    "plt.grid()"
   ]
  },
  {
   "cell_type": "code",
   "execution_count": null,
   "id": "cfa4bdb6",
   "metadata": {},
   "outputs": [],
   "source": []
  },
  {
   "cell_type": "markdown",
   "id": "721cf84d",
   "metadata": {},
   "source": [
    "# Q9. Visualizing trends and volatility in the daily sales."
   ]
  },
  {
   "cell_type": "markdown",
   "id": "aada57e8",
   "metadata": {},
   "source": [
    "We will visualize the trends and volatility in daily sales using mean and standard deviation. Volatility is based on the standard deviation, which changes as volatility increases and decreases. The analysis of trends and volatility will be done using 7 day moving average and upper & lower bounds. Upper and lower bounds will be calculated by adding and subtracting the standard deviation to/from the the 7 day moving average."
   ]
  },
  {
   "cell_type": "markdown",
   "id": "39cdb0f1",
   "metadata": {},
   "source": [
    "**Creating a new \"Date\" column to group data by daily date**"
   ]
  },
  {
   "cell_type": "code",
   "execution_count": 57,
   "id": "34735b6e",
   "metadata": {},
   "outputs": [
    {
     "data": {
      "text/html": [
       "<div>\n",
       "<style scoped>\n",
       "    .dataframe tbody tr th:only-of-type {\n",
       "        vertical-align: middle;\n",
       "    }\n",
       "\n",
       "    .dataframe tbody tr th {\n",
       "        vertical-align: top;\n",
       "    }\n",
       "\n",
       "    .dataframe thead th {\n",
       "        text-align: right;\n",
       "    }\n",
       "</style>\n",
       "<table border=\"1\" class=\"dataframe\">\n",
       "  <thead>\n",
       "    <tr style=\"text-align: right;\">\n",
       "      <th></th>\n",
       "      <th>Order ID</th>\n",
       "      <th>Transaction Type</th>\n",
       "      <th>Order Date &amp; Time</th>\n",
       "      <th>Quantity</th>\n",
       "      <th>Product</th>\n",
       "      <th>Category</th>\n",
       "      <th>Ship To City</th>\n",
       "      <th>Ship To State</th>\n",
       "      <th>Invoice Amount</th>\n",
       "      <th>Fulfillment Channel</th>\n",
       "      <th>Payment Method Code</th>\n",
       "      <th>Order Month</th>\n",
       "      <th>Order Time (in h)</th>\n",
       "      <th>Date</th>\n",
       "    </tr>\n",
       "  </thead>\n",
       "  <tbody>\n",
       "    <tr>\n",
       "      <th>0</th>\n",
       "      <td>10048</td>\n",
       "      <td>Shipment</td>\n",
       "      <td>2023-01-01 03:29:00</td>\n",
       "      <td>1</td>\n",
       "      <td>Item 25</td>\n",
       "      <td>Category 8</td>\n",
       "      <td>Faridabad</td>\n",
       "      <td>Haryana</td>\n",
       "      <td>1249.0</td>\n",
       "      <td>AFN</td>\n",
       "      <td>CC</td>\n",
       "      <td>January</td>\n",
       "      <td>3</td>\n",
       "      <td>2023-01-01</td>\n",
       "    </tr>\n",
       "    <tr>\n",
       "      <th>1</th>\n",
       "      <td>10049</td>\n",
       "      <td>Shipment</td>\n",
       "      <td>2023-01-01 00:48:00</td>\n",
       "      <td>1</td>\n",
       "      <td>Item 9</td>\n",
       "      <td>Category 4</td>\n",
       "      <td>Faridabad</td>\n",
       "      <td>Haryana</td>\n",
       "      <td>939.0</td>\n",
       "      <td>AFN</td>\n",
       "      <td>COD</td>\n",
       "      <td>January</td>\n",
       "      <td>0</td>\n",
       "      <td>2023-01-01</td>\n",
       "    </tr>\n",
       "    <tr>\n",
       "      <th>2</th>\n",
       "      <td>10050</td>\n",
       "      <td>Shipment</td>\n",
       "      <td>2023-01-01 00:34:00</td>\n",
       "      <td>1</td>\n",
       "      <td>Item 15</td>\n",
       "      <td>Category 6</td>\n",
       "      <td>Thane</td>\n",
       "      <td>Maharashtra</td>\n",
       "      <td>1149.0</td>\n",
       "      <td>AFN</td>\n",
       "      <td>PayStation</td>\n",
       "      <td>January</td>\n",
       "      <td>0</td>\n",
       "      <td>2023-01-01</td>\n",
       "    </tr>\n",
       "    <tr>\n",
       "      <th>3</th>\n",
       "      <td>10051</td>\n",
       "      <td>Shipment</td>\n",
       "      <td>2023-01-01 00:34:00</td>\n",
       "      <td>1</td>\n",
       "      <td>Item 15</td>\n",
       "      <td>Category 6</td>\n",
       "      <td>Ernakulam</td>\n",
       "      <td>Kerala</td>\n",
       "      <td>1149.0</td>\n",
       "      <td>AFN</td>\n",
       "      <td>CC</td>\n",
       "      <td>January</td>\n",
       "      <td>0</td>\n",
       "      <td>2023-01-01</td>\n",
       "    </tr>\n",
       "    <tr>\n",
       "      <th>4</th>\n",
       "      <td>10052</td>\n",
       "      <td>Shipment</td>\n",
       "      <td>2023-01-01 02:00:00</td>\n",
       "      <td>1</td>\n",
       "      <td>Item 15</td>\n",
       "      <td>Category 6</td>\n",
       "      <td>New Delhi</td>\n",
       "      <td>Delhi</td>\n",
       "      <td>1149.0</td>\n",
       "      <td>AFN</td>\n",
       "      <td>PayStation</td>\n",
       "      <td>January</td>\n",
       "      <td>2</td>\n",
       "      <td>2023-01-01</td>\n",
       "    </tr>\n",
       "  </tbody>\n",
       "</table>\n",
       "</div>"
      ],
      "text/plain": [
       "   Order ID Transaction Type   Order Date & Time  Quantity  Product  \\\n",
       "0     10048         Shipment 2023-01-01 03:29:00         1  Item 25   \n",
       "1     10049         Shipment 2023-01-01 00:48:00         1   Item 9   \n",
       "2     10050         Shipment 2023-01-01 00:34:00         1  Item 15   \n",
       "3     10051         Shipment 2023-01-01 00:34:00         1  Item 15   \n",
       "4     10052         Shipment 2023-01-01 02:00:00         1  Item 15   \n",
       "\n",
       "     Category Ship To City Ship To State  Invoice Amount Fulfillment Channel  \\\n",
       "0  Category 8    Faridabad       Haryana          1249.0                 AFN   \n",
       "1  Category 4    Faridabad       Haryana           939.0                 AFN   \n",
       "2  Category 6        Thane   Maharashtra          1149.0                 AFN   \n",
       "3  Category 6    Ernakulam        Kerala          1149.0                 AFN   \n",
       "4  Category 6    New Delhi         Delhi          1149.0                 AFN   \n",
       "\n",
       "  Payment Method Code Order Month  Order Time (in h)        Date  \n",
       "0                  CC     January                  3  2023-01-01  \n",
       "1                 COD     January                  0  2023-01-01  \n",
       "2          PayStation     January                  0  2023-01-01  \n",
       "3                  CC     January                  0  2023-01-01  \n",
       "4          PayStation     January                  2  2023-01-01  "
      ]
     },
     "execution_count": 57,
     "metadata": {},
     "output_type": "execute_result"
    }
   ],
   "source": [
    "data['Date'] = data['Order Date & Time'].dt.date\n",
    "data.head()"
   ]
  },
  {
   "cell_type": "markdown",
   "id": "873b3db6",
   "metadata": {},
   "source": [
    "**Grouping sales by daily dates**"
   ]
  },
  {
   "cell_type": "code",
   "execution_count": 58,
   "id": "49c00c1f",
   "metadata": {},
   "outputs": [
    {
     "data": {
      "text/plain": [
       "Date\n",
       "2023-01-01     82119.65\n",
       "2023-01-02     76625.70\n",
       "2023-01-03     94443.95\n",
       "2023-01-04    106337.05\n",
       "2023-01-05    104925.25\n",
       "Name: Invoice Amount, dtype: float64"
      ]
     },
     "execution_count": 58,
     "metadata": {},
     "output_type": "execute_result"
    }
   ],
   "source": [
    "daily_sales = data['Invoice Amount'].groupby(data['Date']).sum()\n",
    "daily_sales.head()"
   ]
  },
  {
   "cell_type": "code",
   "execution_count": 59,
   "id": "702328a7",
   "metadata": {},
   "outputs": [
    {
     "name": "stdout",
     "output_type": "stream",
     "text": [
      "<class 'pandas.core.series.Series'>\n",
      "Index: 334 entries, 2023-01-01 to 2023-11-30\n",
      "Series name: Invoice Amount\n",
      "Non-Null Count  Dtype  \n",
      "--------------  -----  \n",
      "334 non-null    float64\n",
      "dtypes: float64(1)\n",
      "memory usage: 5.2+ KB\n"
     ]
    }
   ],
   "source": [
    "# Check for null values\n",
    "daily_sales.info()"
   ]
  },
  {
   "cell_type": "markdown",
   "id": "209164c2",
   "metadata": {},
   "source": [
    "**Creating a new trend dataframe to store the values**"
   ]
  },
  {
   "cell_type": "code",
   "execution_count": 66,
   "id": "62065501",
   "metadata": {},
   "outputs": [],
   "source": [
    "trend_data = pd.DataFrame()\n",
    "trend_data['Daily Sales'] = daily_sales\n",
    "trend_data['Daily Sales 7 Day MA'] = daily_sales.rolling(window=7).mean() # Calculating 7 Day Moving Average\n",
    "trend_data['Upper'] = trend_data['Daily Sales 7 Day MA'] + 2*daily_sales.rolling(window=7).std() # Calculating Upper Band\n",
    "trend_data['Lower'] = trend_data['Daily Sales 7 Day MA'] - 2*daily_sales.rolling(window=7).std() # Calculating Lower Band"
   ]
  },
  {
   "cell_type": "markdown",
   "id": "dc07e9f9",
   "metadata": {},
   "source": [
    "#### Plotting and visualizing the trends and volatility for the last 3 months sales data"
   ]
  },
  {
   "cell_type": "code",
   "execution_count": 67,
   "id": "14428a40",
   "metadata": {},
   "outputs": [
    {
     "data": {
      "text/plain": [
       "<matplotlib.legend.Legend at 0x28677c16a60>"
      ]
     },
     "execution_count": 67,
     "metadata": {},
     "output_type": "execute_result"
    },
    {
     "data": {
      "image/png": "[encoded data removed]",
      "text/plain": [
       "<Figure size 1200x400 with 1 Axes>"
      ]
     },
     "metadata": {},
     "output_type": "display_data"
    }
   ],
   "source": [
    "plt.figure(figsize=(12,4))\n",
    "trend_data['Daily Sales'].tail(90).plot()\n",
    "trend_data['Daily Sales 7 Day MA'].tail(90).plot()\n",
    "trend_data['Upper'].tail(90).plot(linestyle='--')\n",
    "trend_data['Lower'].tail(90).plot(linestyle='--')\n",
    "plt.xlabel('Date', fontweight = 'bold')\n",
    "plt.ylabel('Sales', fontweight = 'bold')\n",
    "plt.title('Sales Trends and Volatility', fontweight = 'bold')\n",
    "plt.grid(True)\n",
    "plt.legend()"
   ]
  },
  {
   "cell_type": "code",
   "execution_count": null,
   "id": "1ecdd94e",
   "metadata": {},
   "outputs": [],
   "source": []
  }
 ],
 "metadata": {
  "kernelspec": {
   "display_name": "Python 3 (ipykernel)",
   "language": "python",
   "name": "python3"
  },
  "language_info": {
   "codemirror_mode": {
    "name": "ipython",
    "version": 3
   },
   "file_extension": ".py",
   "mimetype": "text/x-python",
   "name": "python",
   "nbconvert_exporter": "python",
   "pygments_lexer": "ipython3",
   "version": "3.9.13"
  }
 },
 "nbformat": 4,
 "nbformat_minor": 5
}
